{
 "cells": [
  {
   "cell_type": "code",
   "execution_count": null,
   "id": "4953c46d-9ba5-4328-bf60-378b6552d70b",
   "metadata": {
    "tags": []
   },
   "outputs": [],
   "source": [
    "import itertools\n",
    "import jax\n",
    "import jax.numpy as jnp\n",
    "import pandas as pd\n",
    "import numpy as np\n",
    "import matplotlib.pyplot as plt\n",
    "from tqdm import tqdm\n",
    "from skimage.transform import rescale\n",
    "\n",
    "from basdi import *\n",
    "from basdi.utils import frc\n",
    "from basdi.typing import *"
   ]
  },
  {
   "cell_type": "code",
   "execution_count": null,
   "id": "32b6dc9b-44ca-4258-ae46-d6e2d5d5764e",
   "metadata": {},
   "outputs": [],
   "source": [
    "# Hyperparameters\n",
    "track_velocity = True # whether the motion model assumes constant velocity\n",
    "\n",
    "data_name = \"Pos2\" # file name prefix\n",
    "block_size = 8000 # frames of each image block\n",
    "binning = 200 # bin frames \n",
    "n_slices = 23 # number of z-slices \n",
    "\n",
    "k_err = 450 # scaling factor to convert intensity to loc err\n",
    "z_err = 75  # z-axis loc err\n",
    "\n",
    "th0 = [0, -300, 0] #  drift initialization value\n",
    "s0 = 0.05 # initial scaling\n",
    "sigma = [5, 5, 1] # lateral drift step size\n",
    "sigma_b = [50, 50, 10] # step size at the block boundary\n",
    "sigma_s = 0.0001 # scale step size\n",
    "\n",
    "n_samples = 10000 # number of samples for computing Monte-Carlo integreation\n",
    "key = jax.random.PRNGKey(4242) # seed value to RNG \n",
    "np.random.seed(4242)"
   ]
  },
  {
   "cell_type": "code",
   "execution_count": null,
   "id": "f7e43d11-6131-419e-8b06-afb1ac66b1a9",
   "metadata": {
    "tags": []
   },
   "outputs": [],
   "source": [
    "all_data = pd.read_csv(f\"{data_name}_allLocs.txt\", sep=\"\\t\")\n",
    "\n",
    "locs = all_data[[\"x\", \"y\", \"z\"]].to_numpy()\n",
    "intensity = all_data[\"Intensity\"].to_numpy()\n",
    "loc_err = jax.lax.rsqrt(intensity) * k_err\n",
    "errs = np.repeat(loc_err, 2).reshape(-1,2)\n",
    "errs = np.pad(errs, [[0,0],[0,1]], constant_values=z_err)\n",
    "\n",
    "s = np.arange(n_slices+1).reshape(2,-1).transpose().reshape(-1)[:-1]\n",
    "slice_seq = [f\"slice{x}\" for x in s]\n",
    "\n",
    "frames = all_data[\"Frame\"].to_numpy().astype(int)\n",
    "slice_dic = dict(zip(slice_seq, range(len(slice_seq))))\n",
    "u, inv = np.unique(all_data[\"Slice\"].to_numpy(), return_inverse = True)\n",
    "slice_idx = np.array([slice_dic[x] for x in u])[inv]\n",
    "block = (frames -1) // block_size\n",
    "block_res = ((frames - 1) % block_size) // binning\n",
    "h_idx = (block * len(u) + slice_idx) * (block_size//binning) + block_res"
   ]
  },
  {
   "cell_type": "code",
   "execution_count": null,
   "id": "970e4261-17c6-4723-a778-595a2779b00b",
   "metadata": {
    "tags": []
   },
   "outputs": [],
   "source": [
    "# build a binned data sequence with padding\n",
    "\n",
    "def data_gen():\n",
    "    for i in range(h_idx.max()+1):\n",
    "        sel = h_idx==i\n",
    "        d0 = locs[sel]\n",
    "        d1 = errs[sel]\n",
    "        n = len(d0)\n",
    "        padding = (len(d0)-1)//128*128+128 - n\n",
    "        d0 = np.pad(d0, [[0,padding],[0,0]])\n",
    "        d1 = np.pad(d1, [[0,padding],[0,0]])\n",
    "        d2 = np.asarray((True,)*n + (False,)*padding, dtype=bool)\n",
    "        yield d0, d1, d2\n",
    "\n",
    "data = tuple(tqdm(data_gen()))"
   ]
  },
  {
   "cell_type": "code",
   "execution_count": null,
   "id": "31e8bfd9-38b5-4613-9969-f994dabf12e3",
   "metadata": {
    "tags": []
   },
   "outputs": [],
   "source": [
    "def block_transition(key, states, step=None, *, p=0.1, s=10):\n",
    "    k1, k2 = jax.random.split(key)\n",
    "    delta = jax.random.normal(k1, shape=states.shape) * jnp.asarray(sigma_b)\n",
    "    selector = jax.random.uniform(k2, shape=delta.shape[:1] + (1,)) > p\n",
    "    next_state = states + jax.numpy.where(selector, delta, delta * s)\n",
    "    next_id = jnp.arange(len(next_state))\n",
    "    return next_state, next_id"
   ]
  },
  {
   "cell_type": "code",
   "execution_count": null,
   "id": "34404029-1e77-4709-9d3d-51b4bd3b4e77",
   "metadata": {
    "tags": []
   },
   "outputs": [],
   "source": [
    "corrected = all_data.copy()\n",
    "corrected[\"h_idx\"] = h_idx\n",
    "corrected = corrected.sort_values(by=[\"h_idx\", \"Frame\"])\n",
    "corrected = corrected.reset_index(drop=True)"
   ]
  },
  {
   "cell_type": "markdown",
   "id": "e3f90fd2-729b-4f34-a62f-360817c3d3f8",
   "metadata": {
    "tags": []
   },
   "source": [
    "## Model-1 : Drift only"
   ]
  },
  {
   "cell_type": "code",
   "execution_count": null,
   "id": "699f9a47-3344-4efa-a11b-c49123fbe644",
   "metadata": {
    "tags": []
   },
   "outputs": [],
   "source": [
    "locs = all_data[[\"x\", \"y\", \"z\"]].to_numpy()\n",
    "locs_c = locs\n",
    "\n",
    "ps = 50\n",
    "hm = LMModel(\n",
    "    ps = (ps, ps, ps*4),\n",
    "    norm_axis = (0, 1),\n",
    ")\n",
    "\n",
    "def transition_model(key, states, step):\n",
    "    if step % 40 == 0:\n",
    "        next_state_a, next_id = block_transition(key, states[:, :3])\n",
    "        next_state_b = jnp.zeros_like(next_state_a)\n",
    "        return jnp.c_[next_state_a, next_state_b], next_id\n",
    "    else:\n",
    "        v = states[:, 3:6] if track_velocity else 0\n",
    "        next_state_a =  states[:, :3] + v\n",
    "        next_state_a, next_id = gauss_transition_model(key, next_state_a, sigmas=sigma)\n",
    "        next_state_b = next_state_a - states[:, :3]\n",
    "        return jnp.c_[next_state_a, next_state_b], next_id\n",
    "\n",
    "\n",
    "class CustomDrift(DriftModel):\n",
    "    @classmethod\n",
    "    def apply(cls, locs, states):\n",
    "        locs_ = locs + states[:3]\n",
    "        return locs_\n",
    "\n",
    "    @classmethod\n",
    "    def compute_likelihoods(cls, model, obs, states):\n",
    "        locs, err, mask = obs\n",
    "        locs_ = jax.vmap(cls.apply, in_axes=(None,0))(locs, states)\n",
    "        p = model.e_log_ll(locs_, err, mask)\n",
    "\n",
    "        return p\n",
    "\n",
    "drift_model = CustomDrift\n",
    "\n",
    "for m in [2,2,2,1,1]:\n",
    "    hm.build(\n",
    "        locs = locs_c,\n",
    "        errs = errs * [m, m, 1],\n",
    "        n_samples = 500,\n",
    "    )\n",
    "\n",
    "    init_states = np.zeros([n_samples, 6]) + (th0 + [0, 0, 0])\n",
    "    history = smc_run_drift_inference(key, hm, drift_model, transition_model, tqdm(data), init_states)\n",
    "    cm = smc_history_reduce(history)\n",
    "    locs_c = smc_apply_drift(drift_model, data, cm)\n",
    "\n",
    "    fig, ax = plt.subplots(2, 2, figsize=(20, 6))\n",
    "    ax[1,0].plot(cm[:,2])\n",
    "    ax[0,0].plot(cm[:,0])\n",
    "    ax[0,1].plot(cm[:,1])\n",
    "    plt.tight_layout()\n",
    "    plt.show()\n",
    "\n",
    "par = np.random.rand(len(locs_c)) >= 0.5\n",
    "v1 = hm.render(locs_c[par]).sum(axis=-1)\n",
    "v2 = hm.render(locs_c[~par]).sum(axis=-1)\n",
    "\n",
    "frc_x, frc_y = frc(v1, v2)\n",
    "plt.plot(frc_x / ps * 1000, frc_y)\n",
    "plt.axis([0, 10, -0.2, 1.1])"
   ]
  },
  {
   "cell_type": "code",
   "execution_count": null,
   "id": "2c8d4815-7a86-4fcc-9aea-f37c4e3da079",
   "metadata": {
    "tags": []
   },
   "outputs": [],
   "source": [
    "np.save(f\"{data_name}_n\", cm)\n",
    "corrected[\"xc\"] = locs_c[:, 0]\n",
    "corrected[\"yc\"] = locs_c[:, 1]\n",
    "corrected[\"zc\"] = locs_c[:, 2]\n",
    "corrected.to_csv(f\"{data_name}_n.csv\", index=False)"
   ]
  },
  {
   "cell_type": "markdown",
   "id": "048d90dc-74d6-4533-93a2-7812c8a64e94",
   "metadata": {},
   "source": [
    "# Model-2 : Isotropic Expansion"
   ]
  },
  {
   "cell_type": "code",
   "execution_count": null,
   "id": "789892d0-e5f3-45be-b10c-281f4808619f",
   "metadata": {
    "tags": []
   },
   "outputs": [],
   "source": [
    "locs = all_data[[\"x\", \"y\", \"z\"]].to_numpy()\n",
    "locs_c = locs\n",
    "\n",
    "ps = 50\n",
    "hm = LMModel(\n",
    "    ps = (ps, ps, ps*4),\n",
    "    norm_axis = (0, 1),\n",
    ")\n",
    "\n",
    "def transition_model(key, states, step):\n",
    "    if step % 40 == 0:\n",
    "        k1, k2 = jax.random.split(key)\n",
    "        next_state_a, next_id = block_transition(k1, states[:, :3])\n",
    "        next_state_b, _ = gauss_transition_model(k2, states[:, 3:7], sigmas=[.1, .1, .1, sigma_s])\n",
    "        next_state_c = jnp.zeros_like(next_state_a)        \n",
    "        next_state = jnp.c_[next_state_a, next_state_b, next_state_c]\n",
    "        return next_state, next_id\n",
    "    else:\n",
    "        v = states[:, 7:10] if track_velocity else 0\n",
    "        next_state_a = jnp.c_[states[:, :3] + v, states[:, 3:7]]\n",
    "        next_state_a, next_id = gauss_transition_model(key, next_state_a, sigmas=sigma + [.1, .1, .1, sigma_s])\n",
    "        next_state_b = next_state_a[:, :3] - states[:, :3]\n",
    "        return jnp.c_[next_state_a, next_state_b], next_id\n",
    "\n",
    "class CustomDrift(DriftModel):\n",
    "    @classmethod\n",
    "    def apply(cls, locs: ArrayLike, states:ArrayLike)->ArrayLike:\n",
    "        _, dim = locs.shape\n",
    "\n",
    "        scale = jnp.exp(states[..., 6])\n",
    "        scale = jnp.stack([scale, scale, scale], axis=-1)\n",
    "\n",
    "        exp_center = states[..., None, dim:dim*2]\n",
    "        drift = states[..., None, :dim]\n",
    "\n",
    "        locs_ = locs + drift\n",
    "        locs_ = (locs_ - exp_center) * scale[..., None, :] + exp_center\n",
    "\n",
    "        return locs_\n",
    "\n",
    "    @classmethod\n",
    "    def compute_likelihoods(cls, model: LMModel, obs: ArrayLike, states: ArrayLike)->Array:\n",
    "        locs, err, mask = obs\n",
    "        locs_ = cls.apply(locs, states)\n",
    "        p = model.e_log_ll(locs_, err, mask)\n",
    "\n",
    "        p += states[..., 6] * 2\n",
    "\n",
    "        return p\n",
    "\n",
    "drift_model= CustomDrift\n",
    "\n",
    "for m in [2,2,2,1,1,1]:\n",
    "    hm.build(\n",
    "        locs = locs_c,\n",
    "        errs = errs * [m, m, 1],\n",
    "        n_samples = 500,\n",
    "    )\n",
    "\n",
    "    init_states = np.zeros([n_samples, 10])\n",
    "    init_states[:, :3] = th0\n",
    "    init_states[:, 3:6] = np.random.normal(size=[n_samples, 3]) * 500 + locs_c.mean(axis=0)\n",
    "    init_states[:, 6] = np.random.normal(size=[n_samples]) * 0.01 + s0\n",
    "\n",
    "    history = smc_run_drift_inference(key, hm, drift_model, transition_model, tqdm(data), init_states)\n",
    "    cm = smc_history_reduce(history)\n",
    "    locs_c = smc_apply_drift(drift_model, data, cm)\n",
    "\n",
    "    fig, ax = plt.subplots(2, 2, figsize=(20, 6))\n",
    "    ax[1,1].plot(np.exp(cm[:,6]))\n",
    "    ax[1,0].plot(cm[:,2])\n",
    "    ax[0,0].plot(cm[:,0])\n",
    "    ax[0,1].plot(cm[:,1])\n",
    "    plt.tight_layout()\n",
    "    plt.show()\n",
    "\n",
    "par = np.random.rand(len(locs_c)) >= 0.5\n",
    "v1 = hm.render(locs_c[par]).sum(axis=-1)\n",
    "v2 = hm.render(locs_c[~par]).sum(axis=-1)\n",
    "\n",
    "frc_x, frc_y = frc(v1, v2)\n",
    "plt.plot(frc_x / ps * 1000, frc_y)\n",
    "plt.axis([0, 10, -0.2, 1])"
   ]
  },
  {
   "cell_type": "code",
   "execution_count": null,
   "id": "1e3977fa-7a91-4d61-a1f2-c065c2c53542",
   "metadata": {},
   "outputs": [],
   "source": [
    "np.save(f\"{data_name}_i\", cm)\n",
    "corrected[\"xc\"] = locs_c[:, 0]\n",
    "corrected[\"yc\"] = locs_c[:, 1]\n",
    "corrected[\"zc\"] = locs_c[:, 2]\n",
    "corrected.to_csv(f\"{data_name}_i.csv\", index=False)"
   ]
  },
  {
   "cell_type": "markdown",
   "id": "8cddc729-5f60-4d19-ad4e-973fea3bda25",
   "metadata": {
    "tags": []
   },
   "source": [
    "## Anisotropic expansion"
   ]
  },
  {
   "cell_type": "code",
   "execution_count": null,
   "id": "4b912e6a-2d66-4673-800f-c541c0279825",
   "metadata": {
    "tags": []
   },
   "outputs": [],
   "source": [
    "locs = all_data[[\"x\", \"y\", \"z\"]].to_numpy()\n",
    "locs_c = locs\n",
    "\n",
    "ps = 50\n",
    "hm = LMModel(\n",
    "    ps = (ps, ps, ps*4),\n",
    "    norm_axis = (0, 1),\n",
    ")\n",
    "\n",
    "def transition_model(key, states, step):\n",
    "    if step % 40 == 0:\n",
    "        k1, k2 = jax.random.split(key)\n",
    "        next_state_a, next_id = block_transition(k1, states[:, :3])\n",
    "        next_state_b, _ = gauss_transition_model(k2, states[:, 3:8], sigmas=[.1, .1, .1, sigma_s, sigma_s])\n",
    "        next_state_c = jnp.zeros_like(next_state_a)\n",
    "        next_state = jnp.c_[next_state_a, next_state_b, next_state_c]\n",
    "        return next_state, next_id\n",
    "    else:\n",
    "        v = states[:, 8:11] if track_velocity else 0\n",
    "        next_state_a = jnp.c_[states[:, :3] + v, states[:, 3:8]]\n",
    "        next_state_a, next_id = gauss_transition_model(key, next_state_a, sigmas=sigma + [.1, .1, .1, sigma_s, sigma_s])\n",
    "        next_state_b = next_state_a[:, :3] - states[:, :3]\n",
    "        return jnp.c_[next_state_a, next_state_b], next_id\n",
    "\n",
    "class CustomDrift(DriftModel):\n",
    "    @classmethod\n",
    "    def apply(cls, locs: ArrayLike, states:ArrayLike)->ArrayLike:\n",
    "        _, dim = locs.shape\n",
    "\n",
    "        scale_xy = jnp.exp(states[..., 6])\n",
    "        scale_z = jnp.exp(states[..., 7])\n",
    "        scale = jnp.stack([scale_xy, scale_xy, scale_z], axis=-1)\n",
    "\n",
    "        exp_center = states[..., None, dim:dim*2]\n",
    "        drift = states[..., None, :dim]\n",
    "\n",
    "        locs_ = locs + drift\n",
    "        locs_ = (locs_ - exp_center) * scale[..., None, :] + exp_center\n",
    "\n",
    "        return locs_\n",
    "\n",
    "    @classmethod\n",
    "    def compute_likelihoods(cls, model: LMModel, obs: ArrayLike, states: ArrayLike)->Array:\n",
    "        locs, err, mask = obs\n",
    "        locs_ = cls.apply(locs, states)\n",
    "        p = model.e_log_ll(locs_, err, mask)\n",
    "\n",
    "        p += states[..., 6] * 2\n",
    "\n",
    "        return p\n",
    "\n",
    "drift_model= CustomDrift\n",
    "\n",
    "for m in [2,2,2,1,1,1]:\n",
    "    hm.build(\n",
    "        locs = locs_c,\n",
    "        errs = errs * [m, m, 1],\n",
    "        n_samples = 500,\n",
    "    )\n",
    "\n",
    "    init_states = np.zeros([n_samples, 11])\n",
    "    init_states[:, :3] = th0\n",
    "    init_states[:, 3:6] = np.random.normal(size=[n_samples, 3]) * 500 + locs_c.mean(axis=0)\n",
    "    init_states[:, 6:8] = np.random.normal(size=[n_samples, 2]) * 0.01 + s0\n",
    "\n",
    "    history = smc_run_drift_inference(key, hm, drift_model, transition_model, tqdm(data), init_states)\n",
    "    cm = smc_history_reduce(history)\n",
    "    locs_c = smc_apply_drift(drift_model, data, cm)\n",
    "\n",
    "    fig, ax = plt.subplots(2, 2, figsize=(20, 6))\n",
    "    ax[1,1].plot(np.exp(cm[:,6:8]))\n",
    "    ax[1,0].plot(cm[:,2])\n",
    "    ax[0,0].plot(cm[:,0])\n",
    "    ax[0,1].plot(cm[:,1])\n",
    "    plt.tight_layout()\n",
    "    plt.show()\n",
    "\n",
    "par = np.random.rand(len(locs_c)) >= 0.5\n",
    "v1 = hm.render(locs_c[par]).sum(axis=-1)\n",
    "v2 = hm.render(locs_c[~par]).sum(axis=-1)\n",
    "\n",
    "frc_x, frc_y = frc(v1, v2)\n",
    "plt.plot(frc_x / ps * 1000, frc_y)\n",
    "plt.axis([0, 10, -0.2, 1])"
   ]
  },
  {
   "cell_type": "code",
   "execution_count": null,
   "id": "55d09386-fa3e-4365-b4d8-53cb8e3ed55d",
   "metadata": {
    "tags": []
   },
   "outputs": [],
   "source": [
    "np.save(f\"{data_name}_a\", cm)\n",
    "corrected[\"xc\"] = locs_c[:, 0]\n",
    "corrected[\"yc\"] = locs_c[:, 1]\n",
    "corrected[\"zc\"] = locs_c[:, 2]\n",
    "corrected.to_csv(f\"{data_name}_a.csv\", index=False)"
   ]
  },
  {
   "cell_type": "markdown",
   "id": "6332007e-d9ba-4b96-a8ae-70013ede5a36",
   "metadata": {},
   "source": [
    "## Comparison"
   ]
  },
  {
   "cell_type": "code",
   "execution_count": null,
   "id": "ac696dbc-f7d8-4501-9114-e0be4457cb56",
   "metadata": {
    "tags": []
   },
   "outputs": [],
   "source": [
    "for fn in [\"n\", \"i\", \"a\"]:\n",
    "    df = pd.read_csv(f\"{data_name}_{fn}.csv\")\n",
    "    locs_c = df[[\"xc\", \"yc\", \"zc\"]].to_numpy()\n",
    "    par = np.random.rand(len(locs_c)) >= 0.5\n",
    "    v1 = hm.render(locs_c[par]).sum(axis=-1)\n",
    "    v2 = hm.render(locs_c[~par]).sum(axis=-1)\n",
    "\n",
    "    frc_x, frc_y = frc(v1, v2)\n",
    "    plt.plot(frc_x / ps * 1000, frc_y, label=fn.split(\".\")[0])\n",
    "\n",
    "plt.axis([0, 10, -0.2, 1])\n",
    "plt.legend()"
   ]
  },
  {
   "cell_type": "code",
   "execution_count": null,
   "id": "808b6e71-f246-4233-beaa-c9e795408c32",
   "metadata": {},
   "outputs": [],
   "source": []
  }
 ],
 "metadata": {
  "kernelspec": {
   "display_name": "Python 3 (ipykernel)",
   "language": "python",
   "name": "python3"
  },
  "language_info": {
   "codemirror_mode": {
    "name": "ipython",
    "version": 3
   },
   "file_extension": ".py",
   "mimetype": "text/x-python",
   "name": "python",
   "nbconvert_exporter": "python",
   "pygments_lexer": "ipython3",
   "version": "3.10.9"
  }
 },
 "nbformat": 4,
 "nbformat_minor": 5
}
